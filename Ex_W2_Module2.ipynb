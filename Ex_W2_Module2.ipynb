{
  "nbformat": 4,
  "nbformat_minor": 0,
  "metadata": {
    "colab": {
      "provenance": []
    },
    "kernelspec": {
      "name": "python3",
      "display_name": "Python 3"
    },
    "language_info": {
      "name": "python"
    }
  },
  "cells": [
    {
      "cell_type": "code",
      "execution_count": 3,
      "metadata": {
        "colab": {
          "base_uri": "https://localhost:8080/"
        },
        "id": "udGWtz6GesRg",
        "outputId": "16742a54-22d0-4e56-dedd-68f8e78d4989"
      },
      "outputs": [
        {
          "output_type": "stream",
          "name": "stdout",
          "text": [
            "5.0\n"
          ]
        }
      ],
      "source": [
        "# tinh do dai vec to\n",
        "import numpy as np\n",
        "def compute_vector_length(vector):\n",
        "    len_of_vector = np.linalg.norm(vector)\n",
        "    return len_of_vector\n",
        "\n",
        "vector = np.array([3,4])\n",
        "print(compute_vector_length(vector))"
      ]
    },
    {
      "cell_type": "code",
      "source": [
        "# tinh tich vo huong\n",
        "import numpy as np\n",
        "def compute_dot_product(vector1, vector2):\n",
        "    #result = np.dot(vector1,vector2)\n",
        "    #result = vector1.dot(vector2)\n",
        "    result = vector1@vector2\n",
        "    return result\n",
        "\n",
        "vector1 = np.array([3,4])\n",
        "vector2 = np.array([1,2])\n",
        "print(compute_dot_product(vector1,vector2))"
      ],
      "metadata": {
        "colab": {
          "base_uri": "https://localhost:8080/"
        },
        "id": "EgppIt-5gGz2",
        "outputId": "2f3d24f5-6a3a-4690-c6ef-2e4fec42618b"
      },
      "execution_count": 6,
      "outputs": [
        {
          "output_type": "stream",
          "name": "stdout",
          "text": [
            "11\n"
          ]
        }
      ]
    },
    {
      "cell_type": "code",
      "source": [
        "# nhan vector voi ma tran\n",
        "import numpy as np\n",
        "def matrix_multi_vector(matrix, vector):\n",
        "    result = np.dot(matrix, vector)\n",
        "    return result\n",
        "matrix = np.array([[1,2],[3,4]])\n",
        "vector = np.array([4,5])\n",
        "print(matrix_multi_vector(matrix,vector))"
      ],
      "metadata": {
        "colab": {
          "base_uri": "https://localhost:8080/"
        },
        "id": "Nm73G9p9hIsM",
        "outputId": "6bb4a4d5-c138-4d67-e251-877b53d11ff2"
      },
      "execution_count": 7,
      "outputs": [
        {
          "output_type": "stream",
          "name": "stdout",
          "text": [
            "[14 32]\n"
          ]
        }
      ]
    },
    {
      "cell_type": "code",
      "source": [
        "# nhan ma tran voi ma tran\n",
        "import numpy as np\n",
        "def matrix_multi_matrix(matrix1, matrix2):\n",
        "    result = np.dot(matrix1, matrix2)\n",
        "    return result\n",
        "matrix1 = np.array([[1,2],[3,4],[5,6]])\n",
        "matrix2 = np.array([[1,2,3],[4,5,6]])\n",
        "print(matrix_multi_matrix(matrix1,matrix2))"
      ],
      "metadata": {
        "colab": {
          "base_uri": "https://localhost:8080/"
        },
        "id": "ldZUh5pkiW7L",
        "outputId": "2abffd25-8740-41c2-9190-9292bce2a147"
      },
      "execution_count": 8,
      "outputs": [
        {
          "output_type": "stream",
          "name": "stdout",
          "text": [
            "[[ 9 12 15]\n",
            " [19 26 33]\n",
            " [29 40 51]]\n"
          ]
        }
      ]
    },
    {
      "cell_type": "code",
      "source": [
        "# ma tran nghich dao\n",
        "import numpy as np\n",
        "def inverse_matrix(matrix):\n",
        "    result = np.linalg.inv(matrix)\n",
        "    return result\n",
        "matrix = np.array([[1,2],[3,4]])\n",
        "print(inverse_matrix(matrix))"
      ],
      "metadata": {
        "colab": {
          "base_uri": "https://localhost:8080/"
        },
        "id": "AkKqAXCdjCru",
        "outputId": "54f579b8-b461-4c0c-ef0f-16a72c8926a3"
      },
      "execution_count": 11,
      "outputs": [
        {
          "output_type": "stream",
          "name": "stdout",
          "text": [
            "[[-2.   1. ]\n",
            " [ 1.5 -0.5]]\n"
          ]
        }
      ]
    },
    {
      "cell_type": "code",
      "source": [
        "# eigenvector(v) va eigenvalues(lamda) Av = (lamda)v\n",
        "import numpy as np\n",
        "def compute_eigenvalues_eigenvectors(matrix):\n",
        "    eigenvalues, eigenvectors = np.linalg.eig(matrix)\n",
        "    return eigenvalues, eigenvectors\n",
        "matrix = np.array([[1,2],[3,4]])\n",
        "eigenvalues, eigenvectors = compute_eigenvalues_eigenvectors(matrix)\n",
        "print(eigenvalues)\n",
        "print(eigenvectors)"
      ],
      "metadata": {
        "colab": {
          "base_uri": "https://localhost:8080/"
        },
        "id": "s7PBz_GVkgl7",
        "outputId": "6a7bb8f4-f21d-4f81-81b5-438bbca2af7e"
      },
      "execution_count": 2,
      "outputs": [
        {
          "output_type": "stream",
          "name": "stdout",
          "text": [
            "[-0.37228132  5.37228132]\n",
            "[[-0.82456484 -0.41597356]\n",
            " [ 0.56576746 -0.90937671]]\n"
          ]
        }
      ]
    },
    {
      "cell_type": "code",
      "source": [
        "# cosine similarity\n",
        "import numpy as np\n",
        "def compute_cosine(v1,v2):\n",
        "    cos_sim = np.dot(v1,v2)/(np.linalg.norm(v1)*np.linalg.norm(v2))\n",
        "    return cos_sim\n",
        "v1 = np.array([1,2,3,4])\n",
        "v2 = np.array([1,0,3,0])\n",
        "print(compute_cosine(v1,v2))"
      ],
      "metadata": {
        "colab": {
          "base_uri": "https://localhost:8080/"
        },
        "id": "WriWX_ux_6eN",
        "outputId": "121a8da0-3f0b-4a3f-8cc4-357c9b55ae31"
      },
      "execution_count": 4,
      "outputs": [
        {
          "output_type": "stream",
          "name": "stdout",
          "text": [
            "0.5773502691896257\n"
          ]
        }
      ]
    }
  ]
}